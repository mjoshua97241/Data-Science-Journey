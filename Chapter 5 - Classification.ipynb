{
 "cells": [
  {
   "cell_type": "markdown",
   "id": "d8ccf2fc-da69-4570-8561-3cd427b872db",
   "metadata": {},
   "source": [
    "# Chapter 5 - Classification\n",
    "\n",
    "Import required Python packages."
   ]
  },
  {
   "cell_type": "code",
   "execution_count": 59,
   "id": "87c9c447-0501-4acd-b69f-3e00065c882a",
   "metadata": {},
   "outputs": [],
   "source": [
    "from pathlib import Path\n",
    "import pandas as pd\n",
    "import numpy as np\n",
    "\n",
    "from sklearn.naive_bayes import MultinomialNB\n",
    "from sklearn.discriminant_analysis import LinearDiscriminantAnalysis\n",
    "from sklearn.linear_model import LogisticRegression #, LogisticRegressionCV\n",
    "from sklearn.tree import DecisionTreeClassifier\n",
    "from sklearn.metrics import confusion_matrix, precision_recall_fscore_support\n",
    "from sklearn.metrics import roc_curve, accuracy_score, roc_auc_score\n",
    "\n",
    "import statsmodels.api as sm\n",
    "\n",
    "from imblearn.over_sampling import SMOTE, ADASYN, BorderlineSMOTE\n",
    "from pygam import LinearGAM, s, f, l\n",
    "\n",
    "\n",
    "from dmba import classificationSummary\n",
    "\n",
    "import seaborn as sns\n",
    "import matplotlib.pyplot as plt\n",
    "\n",
    "%matplotlib inline"
   ]
  },
  {
   "cell_type": "code",
   "execution_count": 60,
   "id": "af5d4b58-d242-449d-887f-77cbdfc2ff24",
   "metadata": {},
   "outputs": [],
   "source": [
    "LOAN3000_CSV = r\"\\Personal\\Full_Stack_Data_Analyst\\Data_Science\\O-Reilly_Books\\Practical Statistics for Data Scientists\\data\\loan3000.csv\"\n",
    "LOAN_DATA_CSV = r\"\\Personal\\Full_Stack_Data_Analyst\\Data_Science\\O-Reilly_Books\\Practical Statistics for Data Scientists\\data\\loan_data.csv\"\n",
    "FULL_TRAIN_SET_CSV = r\"\\Personal\\Full_Stack_Data_Analyst\\Data_Science\\O-Reilly_Books\\Practical Statistics for Data Scientists\\data\\full_train_set.csv\""
   ]
  },
  {
   "cell_type": "markdown",
   "id": "8fc06779-9c38-40f1-910c-7e53d87794c9",
   "metadata": {},
   "source": [
    "# The Naive Solution\n",
    "\n",
    "In _Python_ we can use `sklearn.naive_bayes.MultinomialNB` from `scikit-learn`. We need to convert the categorical features to dummy variables before we fit the model:"
   ]
  },
  {
   "cell_type": "code",
   "execution_count": 62,
   "id": "bcf7c62d-1188-4684-8e2f-77f2fa888595",
   "metadata": {},
   "outputs": [
    {
     "data": {
      "text/html": [
       "<style>#sk-container-id-2 {\n",
       "  /* Definition of color scheme common for light and dark mode */\n",
       "  --sklearn-color-text: black;\n",
       "  --sklearn-color-line: gray;\n",
       "  /* Definition of color scheme for unfitted estimators */\n",
       "  --sklearn-color-unfitted-level-0: #fff5e6;\n",
       "  --sklearn-color-unfitted-level-1: #f6e4d2;\n",
       "  --sklearn-color-unfitted-level-2: #ffe0b3;\n",
       "  --sklearn-color-unfitted-level-3: chocolate;\n",
       "  /* Definition of color scheme for fitted estimators */\n",
       "  --sklearn-color-fitted-level-0: #f0f8ff;\n",
       "  --sklearn-color-fitted-level-1: #d4ebff;\n",
       "  --sklearn-color-fitted-level-2: #b3dbfd;\n",
       "  --sklearn-color-fitted-level-3: cornflowerblue;\n",
       "\n",
       "  /* Specific color for light theme */\n",
       "  --sklearn-color-text-on-default-background: var(--sg-text-color, var(--theme-code-foreground, var(--jp-content-font-color1, black)));\n",
       "  --sklearn-color-background: var(--sg-background-color, var(--theme-background, var(--jp-layout-color0, white)));\n",
       "  --sklearn-color-border-box: var(--sg-text-color, var(--theme-code-foreground, var(--jp-content-font-color1, black)));\n",
       "  --sklearn-color-icon: #696969;\n",
       "\n",
       "  @media (prefers-color-scheme: dark) {\n",
       "    /* Redefinition of color scheme for dark theme */\n",
       "    --sklearn-color-text-on-default-background: var(--sg-text-color, var(--theme-code-foreground, var(--jp-content-font-color1, white)));\n",
       "    --sklearn-color-background: var(--sg-background-color, var(--theme-background, var(--jp-layout-color0, #111)));\n",
       "    --sklearn-color-border-box: var(--sg-text-color, var(--theme-code-foreground, var(--jp-content-font-color1, white)));\n",
       "    --sklearn-color-icon: #878787;\n",
       "  }\n",
       "}\n",
       "\n",
       "#sk-container-id-2 {\n",
       "  color: var(--sklearn-color-text);\n",
       "}\n",
       "\n",
       "#sk-container-id-2 pre {\n",
       "  padding: 0;\n",
       "}\n",
       "\n",
       "#sk-container-id-2 input.sk-hidden--visually {\n",
       "  border: 0;\n",
       "  clip: rect(1px 1px 1px 1px);\n",
       "  clip: rect(1px, 1px, 1px, 1px);\n",
       "  height: 1px;\n",
       "  margin: -1px;\n",
       "  overflow: hidden;\n",
       "  padding: 0;\n",
       "  position: absolute;\n",
       "  width: 1px;\n",
       "}\n",
       "\n",
       "#sk-container-id-2 div.sk-dashed-wrapped {\n",
       "  border: 1px dashed var(--sklearn-color-line);\n",
       "  margin: 0 0.4em 0.5em 0.4em;\n",
       "  box-sizing: border-box;\n",
       "  padding-bottom: 0.4em;\n",
       "  background-color: var(--sklearn-color-background);\n",
       "}\n",
       "\n",
       "#sk-container-id-2 div.sk-container {\n",
       "  /* jupyter's `normalize.less` sets `[hidden] { display: none; }`\n",
       "     but bootstrap.min.css set `[hidden] { display: none !important; }`\n",
       "     so we also need the `!important` here to be able to override the\n",
       "     default hidden behavior on the sphinx rendered scikit-learn.org.\n",
       "     See: https://github.com/scikit-learn/scikit-learn/issues/21755 */\n",
       "  display: inline-block !important;\n",
       "  position: relative;\n",
       "}\n",
       "\n",
       "#sk-container-id-2 div.sk-text-repr-fallback {\n",
       "  display: none;\n",
       "}\n",
       "\n",
       "div.sk-parallel-item,\n",
       "div.sk-serial,\n",
       "div.sk-item {\n",
       "  /* draw centered vertical line to link estimators */\n",
       "  background-image: linear-gradient(var(--sklearn-color-text-on-default-background), var(--sklearn-color-text-on-default-background));\n",
       "  background-size: 2px 100%;\n",
       "  background-repeat: no-repeat;\n",
       "  background-position: center center;\n",
       "}\n",
       "\n",
       "/* Parallel-specific style estimator block */\n",
       "\n",
       "#sk-container-id-2 div.sk-parallel-item::after {\n",
       "  content: \"\";\n",
       "  width: 100%;\n",
       "  border-bottom: 2px solid var(--sklearn-color-text-on-default-background);\n",
       "  flex-grow: 1;\n",
       "}\n",
       "\n",
       "#sk-container-id-2 div.sk-parallel {\n",
       "  display: flex;\n",
       "  align-items: stretch;\n",
       "  justify-content: center;\n",
       "  background-color: var(--sklearn-color-background);\n",
       "  position: relative;\n",
       "}\n",
       "\n",
       "#sk-container-id-2 div.sk-parallel-item {\n",
       "  display: flex;\n",
       "  flex-direction: column;\n",
       "}\n",
       "\n",
       "#sk-container-id-2 div.sk-parallel-item:first-child::after {\n",
       "  align-self: flex-end;\n",
       "  width: 50%;\n",
       "}\n",
       "\n",
       "#sk-container-id-2 div.sk-parallel-item:last-child::after {\n",
       "  align-self: flex-start;\n",
       "  width: 50%;\n",
       "}\n",
       "\n",
       "#sk-container-id-2 div.sk-parallel-item:only-child::after {\n",
       "  width: 0;\n",
       "}\n",
       "\n",
       "/* Serial-specific style estimator block */\n",
       "\n",
       "#sk-container-id-2 div.sk-serial {\n",
       "  display: flex;\n",
       "  flex-direction: column;\n",
       "  align-items: center;\n",
       "  background-color: var(--sklearn-color-background);\n",
       "  padding-right: 1em;\n",
       "  padding-left: 1em;\n",
       "}\n",
       "\n",
       "\n",
       "/* Toggleable style: style used for estimator/Pipeline/ColumnTransformer box that is\n",
       "clickable and can be expanded/collapsed.\n",
       "- Pipeline and ColumnTransformer use this feature and define the default style\n",
       "- Estimators will overwrite some part of the style using the `sk-estimator` class\n",
       "*/\n",
       "\n",
       "/* Pipeline and ColumnTransformer style (default) */\n",
       "\n",
       "#sk-container-id-2 div.sk-toggleable {\n",
       "  /* Default theme specific background. It is overwritten whether we have a\n",
       "  specific estimator or a Pipeline/ColumnTransformer */\n",
       "  background-color: var(--sklearn-color-background);\n",
       "}\n",
       "\n",
       "/* Toggleable label */\n",
       "#sk-container-id-2 label.sk-toggleable__label {\n",
       "  cursor: pointer;\n",
       "  display: block;\n",
       "  width: 100%;\n",
       "  margin-bottom: 0;\n",
       "  padding: 0.5em;\n",
       "  box-sizing: border-box;\n",
       "  text-align: center;\n",
       "}\n",
       "\n",
       "#sk-container-id-2 label.sk-toggleable__label-arrow:before {\n",
       "  /* Arrow on the left of the label */\n",
       "  content: \"▸\";\n",
       "  float: left;\n",
       "  margin-right: 0.25em;\n",
       "  color: var(--sklearn-color-icon);\n",
       "}\n",
       "\n",
       "#sk-container-id-2 label.sk-toggleable__label-arrow:hover:before {\n",
       "  color: var(--sklearn-color-text);\n",
       "}\n",
       "\n",
       "/* Toggleable content - dropdown */\n",
       "\n",
       "#sk-container-id-2 div.sk-toggleable__content {\n",
       "  max-height: 0;\n",
       "  max-width: 0;\n",
       "  overflow: hidden;\n",
       "  text-align: left;\n",
       "  /* unfitted */\n",
       "  background-color: var(--sklearn-color-unfitted-level-0);\n",
       "}\n",
       "\n",
       "#sk-container-id-2 div.sk-toggleable__content.fitted {\n",
       "  /* fitted */\n",
       "  background-color: var(--sklearn-color-fitted-level-0);\n",
       "}\n",
       "\n",
       "#sk-container-id-2 div.sk-toggleable__content pre {\n",
       "  margin: 0.2em;\n",
       "  border-radius: 0.25em;\n",
       "  color: var(--sklearn-color-text);\n",
       "  /* unfitted */\n",
       "  background-color: var(--sklearn-color-unfitted-level-0);\n",
       "}\n",
       "\n",
       "#sk-container-id-2 div.sk-toggleable__content.fitted pre {\n",
       "  /* unfitted */\n",
       "  background-color: var(--sklearn-color-fitted-level-0);\n",
       "}\n",
       "\n",
       "#sk-container-id-2 input.sk-toggleable__control:checked~div.sk-toggleable__content {\n",
       "  /* Expand drop-down */\n",
       "  max-height: 200px;\n",
       "  max-width: 100%;\n",
       "  overflow: auto;\n",
       "}\n",
       "\n",
       "#sk-container-id-2 input.sk-toggleable__control:checked~label.sk-toggleable__label-arrow:before {\n",
       "  content: \"▾\";\n",
       "}\n",
       "\n",
       "/* Pipeline/ColumnTransformer-specific style */\n",
       "\n",
       "#sk-container-id-2 div.sk-label input.sk-toggleable__control:checked~label.sk-toggleable__label {\n",
       "  color: var(--sklearn-color-text);\n",
       "  background-color: var(--sklearn-color-unfitted-level-2);\n",
       "}\n",
       "\n",
       "#sk-container-id-2 div.sk-label.fitted input.sk-toggleable__control:checked~label.sk-toggleable__label {\n",
       "  background-color: var(--sklearn-color-fitted-level-2);\n",
       "}\n",
       "\n",
       "/* Estimator-specific style */\n",
       "\n",
       "/* Colorize estimator box */\n",
       "#sk-container-id-2 div.sk-estimator input.sk-toggleable__control:checked~label.sk-toggleable__label {\n",
       "  /* unfitted */\n",
       "  background-color: var(--sklearn-color-unfitted-level-2);\n",
       "}\n",
       "\n",
       "#sk-container-id-2 div.sk-estimator.fitted input.sk-toggleable__control:checked~label.sk-toggleable__label {\n",
       "  /* fitted */\n",
       "  background-color: var(--sklearn-color-fitted-level-2);\n",
       "}\n",
       "\n",
       "#sk-container-id-2 div.sk-label label.sk-toggleable__label,\n",
       "#sk-container-id-2 div.sk-label label {\n",
       "  /* The background is the default theme color */\n",
       "  color: var(--sklearn-color-text-on-default-background);\n",
       "}\n",
       "\n",
       "/* On hover, darken the color of the background */\n",
       "#sk-container-id-2 div.sk-label:hover label.sk-toggleable__label {\n",
       "  color: var(--sklearn-color-text);\n",
       "  background-color: var(--sklearn-color-unfitted-level-2);\n",
       "}\n",
       "\n",
       "/* Label box, darken color on hover, fitted */\n",
       "#sk-container-id-2 div.sk-label.fitted:hover label.sk-toggleable__label.fitted {\n",
       "  color: var(--sklearn-color-text);\n",
       "  background-color: var(--sklearn-color-fitted-level-2);\n",
       "}\n",
       "\n",
       "/* Estimator label */\n",
       "\n",
       "#sk-container-id-2 div.sk-label label {\n",
       "  font-family: monospace;\n",
       "  font-weight: bold;\n",
       "  display: inline-block;\n",
       "  line-height: 1.2em;\n",
       "}\n",
       "\n",
       "#sk-container-id-2 div.sk-label-container {\n",
       "  text-align: center;\n",
       "}\n",
       "\n",
       "/* Estimator-specific */\n",
       "#sk-container-id-2 div.sk-estimator {\n",
       "  font-family: monospace;\n",
       "  border: 1px dotted var(--sklearn-color-border-box);\n",
       "  border-radius: 0.25em;\n",
       "  box-sizing: border-box;\n",
       "  margin-bottom: 0.5em;\n",
       "  /* unfitted */\n",
       "  background-color: var(--sklearn-color-unfitted-level-0);\n",
       "}\n",
       "\n",
       "#sk-container-id-2 div.sk-estimator.fitted {\n",
       "  /* fitted */\n",
       "  background-color: var(--sklearn-color-fitted-level-0);\n",
       "}\n",
       "\n",
       "/* on hover */\n",
       "#sk-container-id-2 div.sk-estimator:hover {\n",
       "  /* unfitted */\n",
       "  background-color: var(--sklearn-color-unfitted-level-2);\n",
       "}\n",
       "\n",
       "#sk-container-id-2 div.sk-estimator.fitted:hover {\n",
       "  /* fitted */\n",
       "  background-color: var(--sklearn-color-fitted-level-2);\n",
       "}\n",
       "\n",
       "/* Specification for estimator info (e.g. \"i\" and \"?\") */\n",
       "\n",
       "/* Common style for \"i\" and \"?\" */\n",
       "\n",
       ".sk-estimator-doc-link,\n",
       "a:link.sk-estimator-doc-link,\n",
       "a:visited.sk-estimator-doc-link {\n",
       "  float: right;\n",
       "  font-size: smaller;\n",
       "  line-height: 1em;\n",
       "  font-family: monospace;\n",
       "  background-color: var(--sklearn-color-background);\n",
       "  border-radius: 1em;\n",
       "  height: 1em;\n",
       "  width: 1em;\n",
       "  text-decoration: none !important;\n",
       "  margin-left: 1ex;\n",
       "  /* unfitted */\n",
       "  border: var(--sklearn-color-unfitted-level-1) 1pt solid;\n",
       "  color: var(--sklearn-color-unfitted-level-1);\n",
       "}\n",
       "\n",
       ".sk-estimator-doc-link.fitted,\n",
       "a:link.sk-estimator-doc-link.fitted,\n",
       "a:visited.sk-estimator-doc-link.fitted {\n",
       "  /* fitted */\n",
       "  border: var(--sklearn-color-fitted-level-1) 1pt solid;\n",
       "  color: var(--sklearn-color-fitted-level-1);\n",
       "}\n",
       "\n",
       "/* On hover */\n",
       "div.sk-estimator:hover .sk-estimator-doc-link:hover,\n",
       ".sk-estimator-doc-link:hover,\n",
       "div.sk-label-container:hover .sk-estimator-doc-link:hover,\n",
       ".sk-estimator-doc-link:hover {\n",
       "  /* unfitted */\n",
       "  background-color: var(--sklearn-color-unfitted-level-3);\n",
       "  color: var(--sklearn-color-background);\n",
       "  text-decoration: none;\n",
       "}\n",
       "\n",
       "div.sk-estimator.fitted:hover .sk-estimator-doc-link.fitted:hover,\n",
       ".sk-estimator-doc-link.fitted:hover,\n",
       "div.sk-label-container:hover .sk-estimator-doc-link.fitted:hover,\n",
       ".sk-estimator-doc-link.fitted:hover {\n",
       "  /* fitted */\n",
       "  background-color: var(--sklearn-color-fitted-level-3);\n",
       "  color: var(--sklearn-color-background);\n",
       "  text-decoration: none;\n",
       "}\n",
       "\n",
       "/* Span, style for the box shown on hovering the info icon */\n",
       ".sk-estimator-doc-link span {\n",
       "  display: none;\n",
       "  z-index: 9999;\n",
       "  position: relative;\n",
       "  font-weight: normal;\n",
       "  right: .2ex;\n",
       "  padding: .5ex;\n",
       "  margin: .5ex;\n",
       "  width: min-content;\n",
       "  min-width: 20ex;\n",
       "  max-width: 50ex;\n",
       "  color: var(--sklearn-color-text);\n",
       "  box-shadow: 2pt 2pt 4pt #999;\n",
       "  /* unfitted */\n",
       "  background: var(--sklearn-color-unfitted-level-0);\n",
       "  border: .5pt solid var(--sklearn-color-unfitted-level-3);\n",
       "}\n",
       "\n",
       ".sk-estimator-doc-link.fitted span {\n",
       "  /* fitted */\n",
       "  background: var(--sklearn-color-fitted-level-0);\n",
       "  border: var(--sklearn-color-fitted-level-3);\n",
       "}\n",
       "\n",
       ".sk-estimator-doc-link:hover span {\n",
       "  display: block;\n",
       "}\n",
       "\n",
       "/* \"?\"-specific style due to the `<a>` HTML tag */\n",
       "\n",
       "#sk-container-id-2 a.estimator_doc_link {\n",
       "  float: right;\n",
       "  font-size: 1rem;\n",
       "  line-height: 1em;\n",
       "  font-family: monospace;\n",
       "  background-color: var(--sklearn-color-background);\n",
       "  border-radius: 1rem;\n",
       "  height: 1rem;\n",
       "  width: 1rem;\n",
       "  text-decoration: none;\n",
       "  /* unfitted */\n",
       "  color: var(--sklearn-color-unfitted-level-1);\n",
       "  border: var(--sklearn-color-unfitted-level-1) 1pt solid;\n",
       "}\n",
       "\n",
       "#sk-container-id-2 a.estimator_doc_link.fitted {\n",
       "  /* fitted */\n",
       "  border: var(--sklearn-color-fitted-level-1) 1pt solid;\n",
       "  color: var(--sklearn-color-fitted-level-1);\n",
       "}\n",
       "\n",
       "/* On hover */\n",
       "#sk-container-id-2 a.estimator_doc_link:hover {\n",
       "  /* unfitted */\n",
       "  background-color: var(--sklearn-color-unfitted-level-3);\n",
       "  color: var(--sklearn-color-background);\n",
       "  text-decoration: none;\n",
       "}\n",
       "\n",
       "#sk-container-id-2 a.estimator_doc_link.fitted:hover {\n",
       "  /* fitted */\n",
       "  background-color: var(--sklearn-color-fitted-level-3);\n",
       "}\n",
       "</style><div id=\"sk-container-id-2\" class=\"sk-top-container\"><div class=\"sk-text-repr-fallback\"><pre>MultinomialNB(alpha=1e-10, fit_prior=False)</pre><b>In a Jupyter environment, please rerun this cell to show the HTML representation or trust the notebook. <br />On GitHub, the HTML representation is unable to render, please try loading this page with nbviewer.org.</b></div><div class=\"sk-container\" hidden><div class=\"sk-item\"><div class=\"sk-estimator fitted sk-toggleable\"><input class=\"sk-toggleable__control sk-hidden--visually\" id=\"sk-estimator-id-2\" type=\"checkbox\" checked><label for=\"sk-estimator-id-2\" class=\"sk-toggleable__label fitted sk-toggleable__label-arrow fitted\">&nbsp;&nbsp;MultinomialNB<a class=\"sk-estimator-doc-link fitted\" rel=\"noreferrer\" target=\"_blank\" href=\"https://scikit-learn.org/1.5/modules/generated/sklearn.naive_bayes.MultinomialNB.html\">?<span>Documentation for MultinomialNB</span></a><span class=\"sk-estimator-doc-link fitted\">i<span>Fitted</span></span></label><div class=\"sk-toggleable__content fitted\"><pre>MultinomialNB(alpha=1e-10, fit_prior=False)</pre></div> </div></div></div></div>"
      ],
      "text/plain": [
       "MultinomialNB(alpha=1e-10, fit_prior=False)"
      ]
     },
     "execution_count": 62,
     "metadata": {},
     "output_type": "execute_result"
    }
   ],
   "source": [
    "loan_data = pd.read_csv(LOAN_DATA_CSV)\n",
    "\n",
    "# convert to categorical\n",
    "loan_data.outcome = loan_data.outcome.astype('category')\n",
    "loan_data.outcome.cat.reorder_categories(['paid off', 'default'])\n",
    "loan_data.purpose = loan_data.purpose_.astype('category')\n",
    "loan_data.home_ = loan_data.home_.astype('category')\n",
    "loan_data.emp_len_ = loan_data.emp_len_.astype('category')\n",
    "\n",
    "predictors = ['purpose_', 'home_', 'emp_len_']\n",
    "outcome = 'outcome'\n",
    "X = pd.get_dummies(loan_data[predictors], prefix='', prefix_sep='')\n",
    "y = loan_data[outcome]\n",
    "\n",
    "naive_model = MultinomialNB(alpha=0.01, fit_prior=True)\n",
    "naive_model = MultinomialNB(alpha=1e-10, fit_prior=False)\n",
    "naive_model.fit(X, y)"
   ]
  },
  {
   "cell_type": "markdown",
   "id": "6b274ca6-f495-4f72-80fe-8303cb494f63",
   "metadata": {},
   "source": [
    "It is possible to derive the conditional probabilities from the fitted modeul using property `feature_log_prob`. The model can be used to predict the outcome of a new loan. We use the last value of the data set for testing:"
   ]
  },
  {
   "cell_type": "code",
   "execution_count": 64,
   "id": "253c3344-1cfd-4f3d-93ee-7c2f214d01bd",
   "metadata": {},
   "outputs": [
    {
     "name": "stdout",
     "output_type": "stream",
     "text": [
      "predicted class:  default\n"
     ]
    }
   ],
   "source": [
    "new_loan = X.loc[146:146, :]\n",
    "print('predicted class: ', naive_model.predict(new_loan)[0])"
   ]
  },
  {
   "cell_type": "markdown",
   "id": "ef265a2f-c2ab-4865-82af-7201d9a683bc",
   "metadata": {},
   "source": [
    "`scikit-learn` classification models have 2 methods - `predict`, which returns the predicted class, and `predict_proba`, which returns the class probabilities:"
   ]
  },
  {
   "cell_type": "code",
   "execution_count": 66,
   "id": "550fe1d4-3964-4d82-b7be-69071e124a6c",
   "metadata": {},
   "outputs": [
    {
     "name": "stdout",
     "output_type": "stream",
     "text": [
      "predicted probabilities     default  paid off\n",
      "0  0.653699  0.346301\n"
     ]
    }
   ],
   "source": [
    "probabilities = pd.DataFrame(naive_model.predict_proba(new_loan),\n",
    "                            columns=loan_data[outcome].cat.categories)\n",
    "print('predicted probabilities', probabilities)"
   ]
  },
  {
   "cell_type": "markdown",
   "id": "4ff5413f-067f-449a-81c0-7350a411fc00",
   "metadata": {},
   "source": [
    "The prediction also returns a `posterior` estimate of the probability of default. The naive Bayesian classifier is known to produce _biased_ estimates. However, where the goal is to _rank_ records according to the probability that Y=1, unbiased estimates of probability are not needed, and naive Bayes produces good results."
   ]
  },
  {
   "cell_type": "markdown",
   "id": "4bc86b56-8219-4758-92c2-db9813e6e22b",
   "metadata": {},
   "source": [
    "# A Simple Example\n",
    "\n",
    "In _Python_, we can use `LinearDiscriminantAnalysis` from `sklearn.discriminant_analysis`. The `scalings_` property gives the estimated weights:"
   ]
  },
  {
   "cell_type": "code",
   "execution_count": 69,
   "id": "9335e552-7e48-4300-8745-f44e2c446060",
   "metadata": {},
   "outputs": [
    {
     "data": {
      "text/html": [
       "<div>\n",
       "<style scoped>\n",
       "    .dataframe tbody tr th:only-of-type {\n",
       "        vertical-align: middle;\n",
       "    }\n",
       "\n",
       "    .dataframe tbody tr th {\n",
       "        vertical-align: top;\n",
       "    }\n",
       "\n",
       "    .dataframe thead th {\n",
       "        text-align: right;\n",
       "    }\n",
       "</style>\n",
       "<table border=\"1\" class=\"dataframe\">\n",
       "  <thead>\n",
       "    <tr style=\"text-align: right;\">\n",
       "      <th></th>\n",
       "      <th>0</th>\n",
       "    </tr>\n",
       "  </thead>\n",
       "  <tbody>\n",
       "    <tr>\n",
       "      <th>borrower_score</th>\n",
       "      <td>7.175839</td>\n",
       "    </tr>\n",
       "    <tr>\n",
       "      <th>payment_inc_ratio</th>\n",
       "      <td>-0.099676</td>\n",
       "    </tr>\n",
       "  </tbody>\n",
       "</table>\n",
       "</div>"
      ],
      "text/plain": [
       "                          0\n",
       "borrower_score     7.175839\n",
       "payment_inc_ratio -0.099676"
      ]
     },
     "execution_count": 69,
     "metadata": {},
     "output_type": "execute_result"
    }
   ],
   "source": [
    "loan3000 = pd.read_csv(LOAN3000_CSV)\n",
    "loan3000.outcome = loan3000.outcome.astype('category')\n",
    "\n",
    "predictors = ['borrower_score', 'payment_inc_ratio']\n",
    "outcome = 'outcome'\n",
    "\n",
    "X = loan3000[predictors]\n",
    "y = loan3000[outcome]\n",
    "\n",
    "loan_lda = LinearDiscriminantAnalysis()\n",
    "loan_lda.fit(X, y)\n",
    "pd.DataFrame(loan_lda.scalings_, index=X.columns)"
   ]
  },
  {
   "cell_type": "markdown",
   "id": "44670125-7003-4cb4-9545-e0da374fa5d0",
   "metadata": {},
   "source": [
    "The `predict_proba` method of the fitted model returns the probabilities for the \"default\" and \"paid off\" outcomes:"
   ]
  },
  {
   "cell_type": "code",
   "execution_count": 71,
   "id": "42152504-6528-41ef-a2c7-1bf3b0998974",
   "metadata": {},
   "outputs": [
    {
     "name": "stdout",
     "output_type": "stream",
     "text": [
      "    default  paid off\n",
      "0  0.553544  0.446456\n",
      "1  0.558953  0.441047\n",
      "2  0.272696  0.727304\n",
      "3  0.506254  0.493746\n",
      "4  0.609952  0.390048\n"
     ]
    }
   ],
   "source": [
    "pred = pd.DataFrame(loan_lda.predict_proba(loan3000[predictors]),\n",
    "                   columns=loan_lda.classes_)\n",
    "print(pred.head())"
   ]
  },
  {
   "cell_type": "markdown",
   "id": "6eece2e8-2ee5-4084-a2e5-6b7f9293d819",
   "metadata": {},
   "source": [
    "A plot of the predictions helps illustrate how LDA works. Using the out from the `predict_proba` function, a plot of estimated probability of default is produced as follows:"
   ]
  },
  {
   "cell_type": "code",
   "execution_count": 73,
   "id": "259275a2-2bef-4ef6-afe1-1290f6438839",
   "metadata": {},
   "outputs": [
    {
     "data": {
      "image/png": "[encoded data removed]",
      "text/plain": [
       "<Figure size 400x400 with 1 Axes>"
      ]
     },
     "metadata": {},
     "output_type": "display_data"
    }
   ],
   "source": [
    "# Figure5-1 \n",
    "# Use scalings and center of means to determine decisiion boundary\n",
    "center = np.mean(loan_lda.means_, axis=0)\n",
    "slope = - loan_lda.scalings_[0] / loan_lda.scalings_[1]\n",
    "intercept = center[1] - center[0] * slope\n",
    "\n",
    "# payment_inc_ration for borrower_score of 0 & 20\n",
    "x_0 = (0 - intercept) / slope\n",
    "x_20 = (20 - intercept) / slope\n",
    "\n",
    "lda_df = pd.concat([loan3000, pred['default']], axis = 1)\n",
    "lda_df.head()\n",
    "\n",
    "fig, ax = plt.subplots(figsize=(4,4))\n",
    "g = sns.scatterplot(x='borrower_score', y='payment_inc_ratio',\n",
    "                   hue='default', data=lda_df,\n",
    "                   palette=sns.diverging_palette(240, 10, n=9, as_cmap=True),\n",
    "                   ax=ax, legend=False)\n",
    "\n",
    "ax.set_ylim(0,20)\n",
    "ax.set_xlim(0.15,0.8)\n",
    "ax.plot((x_0, x_20), (0,20), linewidth=3)\n",
    "ax.plot(*loan_lda.means_.transpose())\n",
    "\n",
    "plt.tight_layout()\n",
    "plt.show()"
   ]
  },
  {
   "cell_type": "markdown",
   "id": "fef15787-0df5-415e-ba4c-f86922ea9c0d",
   "metadata": {},
   "source": [
    "# Logistic Regression\n",
    "\n",
    "# Logistic Response Funciton and Logit"
   ]
  },
  {
   "cell_type": "code",
   "execution_count": 75,
   "id": "8c0e2619-0fb2-4f32-b6fb-6a5843e19fcd",
   "metadata": {},
   "outputs": [
    {
     "data": {
      "image/png": "[encoded data removed]",
      "text/plain": [
       "<Figure size 300x300 with 1 Axes>"
      ]
     },
     "metadata": {},
     "output_type": "display_data"
    }
   ],
   "source": [
    "# Figure 5 - 2\n",
    "p = np.arange(0.01,1,0.01)\n",
    "df = pd.DataFrame({\n",
    "    'p': p,\n",
    "    'logit': np.log(p / (1-p)),\n",
    "    'odds': p / (1-p),\n",
    "})\n",
    "\n",
    "fig, ax = plt.subplots(figsize=(3, 3))\n",
    "ax.axhline(0, color='grey', linestyle='--')\n",
    "ax.axvline(0.5, color='grey', linestyle='--')\n",
    "ax.plot(df['p'], df['logit'])\n",
    "ax.set_xlabel('Probability')\n",
    "ax.set_ylabel('logit(p)')\n",
    "\n",
    "plt.tight_layout()\n",
    "plt.show()"
   ]
  },
  {
   "cell_type": "markdown",
   "id": "946bd3db-bfb8-4ac8-866f-2c01fc97ea7d",
   "metadata": {},
   "source": [
    "# Logistic Regression and the GLM\n",
    "\n",
    "The package _scikit-learn_ has a specialised class for `LogisticRegression`. _Statsmodels_ have more general method based on generalized linear model (GLM). The arguments `penalty` and `C` are used to prevent overfitting by L1 and L2 regularization. Regularization is switched on by default. In order to fit without regularization, we set `C` to a very large value. The `solver` argument selects the used minimizer; the method `liblinear` is the default:"
   ]
  },
  {
   "cell_type": "code",
   "execution_count": 77,
   "id": "57a23ede-c5c0-4afe-945c-98b67db6ed1b",
   "metadata": {},
   "outputs": [
    {
     "name": "stdout",
     "output_type": "stream",
     "text": [
      "intercept  -1.638088683407208\n",
      "classes ['default' 'paid off']\n"
     ]
    },
    {
     "data": {
      "text/html": [
       "<div>\n",
       "<style scoped>\n",
       "    .dataframe tbody tr th:only-of-type {\n",
       "        vertical-align: middle;\n",
       "    }\n",
       "\n",
       "    .dataframe tbody tr th {\n",
       "        vertical-align: top;\n",
       "    }\n",
       "\n",
       "    .dataframe thead th {\n",
       "        text-align: right;\n",
       "    }\n",
       "</style>\n",
       "<table border=\"1\" class=\"dataframe\">\n",
       "  <thead>\n",
       "    <tr style=\"text-align: right;\">\n",
       "      <th></th>\n",
       "      <th>coeff</th>\n",
       "    </tr>\n",
       "  </thead>\n",
       "  <tbody>\n",
       "    <tr>\n",
       "      <th>payment_inc_ratio</th>\n",
       "      <td>-0.079728</td>\n",
       "    </tr>\n",
       "    <tr>\n",
       "      <th>borrower_score</th>\n",
       "      <td>4.611037</td>\n",
       "    </tr>\n",
       "    <tr>\n",
       "      <th>debt_consolidation</th>\n",
       "      <td>-0.249342</td>\n",
       "    </tr>\n",
       "    <tr>\n",
       "      <th>home_improvement</th>\n",
       "      <td>-0.407614</td>\n",
       "    </tr>\n",
       "    <tr>\n",
       "      <th>major_purchase</th>\n",
       "      <td>-0.229376</td>\n",
       "    </tr>\n",
       "    <tr>\n",
       "      <th>medical</th>\n",
       "      <td>-0.510087</td>\n",
       "    </tr>\n",
       "    <tr>\n",
       "      <th>other</th>\n",
       "      <td>-0.620534</td>\n",
       "    </tr>\n",
       "    <tr>\n",
       "      <th>small_business</th>\n",
       "      <td>-1.215662</td>\n",
       "    </tr>\n",
       "    <tr>\n",
       "      <th>OWN</th>\n",
       "      <td>-0.048453</td>\n",
       "    </tr>\n",
       "    <tr>\n",
       "      <th>RENT</th>\n",
       "      <td>-0.157355</td>\n",
       "    </tr>\n",
       "    <tr>\n",
       "      <th>&gt; 1 Year</th>\n",
       "      <td>0.357464</td>\n",
       "    </tr>\n",
       "  </tbody>\n",
       "</table>\n",
       "</div>"
      ],
      "text/plain": [
       "                       coeff\n",
       "payment_inc_ratio  -0.079728\n",
       "borrower_score      4.611037\n",
       "debt_consolidation -0.249342\n",
       "home_improvement   -0.407614\n",
       "major_purchase     -0.229376\n",
       "medical            -0.510087\n",
       "other              -0.620534\n",
       "small_business     -1.215662\n",
       "OWN                -0.048453\n",
       "RENT               -0.157355\n",
       " > 1 Year           0.357464"
      ]
     },
     "execution_count": 77,
     "metadata": {},
     "output_type": "execute_result"
    }
   ],
   "source": [
    "predictors = ['payment_inc_ratio', 'purpose_', 'home_', 'emp_len_',\n",
    "             'borrower_score']\n",
    "outcome = 'outcome'\n",
    "X = pd.get_dummies(loan_data[predictors], prefix='', prefix_sep='',\n",
    "                  drop_first=True)\n",
    "y = loan_data[outcome]\n",
    "\n",
    "logit_reg = LogisticRegression(penalty='l2', C=1e42, solver='liblinear')\n",
    "logit_reg.fit(X, y)\n",
    "\n",
    "print('intercept ', logit_reg.intercept_[0])\n",
    "print('classes', logit_reg.classes_)\n",
    "pd.DataFrame({'coeff': logit_reg.coef_[0]},\n",
    "            index=X.columns)"
   ]
  },
  {
   "cell_type": "code",
   "execution_count": 78,
   "id": "abf188a9-161b-4521-a25f-26ad3e4c4172",
   "metadata": {},
   "outputs": [
    {
     "ename": "AttributeError",
     "evalue": "Can only use .cat accessor with a 'category' dtype",
     "output_type": "error",
     "traceback": [
      "\u001b[1;31m---------------------------------------------------------------------------\u001b[0m",
      "\u001b[1;31mAttributeError\u001b[0m                            Traceback (most recent call last)",
      "Cell \u001b[1;32mIn[78], line 1\u001b[0m\n\u001b[1;32m----> 1\u001b[0m \u001b[38;5;28mprint\u001b[39m(\u001b[43mloan_data\u001b[49m\u001b[43m[\u001b[49m\u001b[38;5;124;43m'\u001b[39;49m\u001b[38;5;124;43mpurpose_\u001b[39;49m\u001b[38;5;124;43m'\u001b[39;49m\u001b[43m]\u001b[49m\u001b[38;5;241;43m.\u001b[39;49m\u001b[43mcat\u001b[49m\u001b[38;5;241m.\u001b[39mcategories)\n\u001b[0;32m      2\u001b[0m \u001b[38;5;28mprint\u001b[39m(loan_data[\u001b[38;5;124m'\u001b[39m\u001b[38;5;124mhome_\u001b[39m\u001b[38;5;124m'\u001b[39m]\u001b[38;5;241m.\u001b[39mcat\u001b[38;5;241m.\u001b[39mcategories)\n\u001b[0;32m      3\u001b[0m \u001b[38;5;28mprint\u001b[39m(loan_data[\u001b[38;5;124m'\u001b[39m\u001b[38;5;124memp_len_\u001b[39m\u001b[38;5;124m'\u001b[39m]\u001b[38;5;241m.\u001b[39mcat\u001b[38;5;241m.\u001b[39mcategories)\n",
      "File \u001b[1;32mC:\\Anaconda3\\Lib\\site-packages\\pandas\\core\\generic.py:6299\u001b[0m, in \u001b[0;36mNDFrame.__getattr__\u001b[1;34m(self, name)\u001b[0m\n\u001b[0;32m   6292\u001b[0m \u001b[38;5;28;01mif\u001b[39;00m (\n\u001b[0;32m   6293\u001b[0m     name \u001b[38;5;129;01mnot\u001b[39;00m \u001b[38;5;129;01min\u001b[39;00m \u001b[38;5;28mself\u001b[39m\u001b[38;5;241m.\u001b[39m_internal_names_set\n\u001b[0;32m   6294\u001b[0m     \u001b[38;5;129;01mand\u001b[39;00m name \u001b[38;5;129;01mnot\u001b[39;00m \u001b[38;5;129;01min\u001b[39;00m \u001b[38;5;28mself\u001b[39m\u001b[38;5;241m.\u001b[39m_metadata\n\u001b[0;32m   6295\u001b[0m     \u001b[38;5;129;01mand\u001b[39;00m name \u001b[38;5;129;01mnot\u001b[39;00m \u001b[38;5;129;01min\u001b[39;00m \u001b[38;5;28mself\u001b[39m\u001b[38;5;241m.\u001b[39m_accessors\n\u001b[0;32m   6296\u001b[0m     \u001b[38;5;129;01mand\u001b[39;00m \u001b[38;5;28mself\u001b[39m\u001b[38;5;241m.\u001b[39m_info_axis\u001b[38;5;241m.\u001b[39m_can_hold_identifiers_and_holds_name(name)\n\u001b[0;32m   6297\u001b[0m ):\n\u001b[0;32m   6298\u001b[0m     \u001b[38;5;28;01mreturn\u001b[39;00m \u001b[38;5;28mself\u001b[39m[name]\n\u001b[1;32m-> 6299\u001b[0m \u001b[38;5;28;01mreturn\u001b[39;00m \u001b[38;5;28;43mobject\u001b[39;49m\u001b[38;5;241;43m.\u001b[39;49m\u001b[38;5;21;43m__getattribute__\u001b[39;49m\u001b[43m(\u001b[49m\u001b[38;5;28;43mself\u001b[39;49m\u001b[43m,\u001b[49m\u001b[43m \u001b[49m\u001b[43mname\u001b[49m\u001b[43m)\u001b[49m\n",
      "File \u001b[1;32mC:\\Anaconda3\\Lib\\site-packages\\pandas\\core\\accessor.py:224\u001b[0m, in \u001b[0;36mCachedAccessor.__get__\u001b[1;34m(self, obj, cls)\u001b[0m\n\u001b[0;32m    221\u001b[0m \u001b[38;5;28;01mif\u001b[39;00m obj \u001b[38;5;129;01mis\u001b[39;00m \u001b[38;5;28;01mNone\u001b[39;00m:\n\u001b[0;32m    222\u001b[0m     \u001b[38;5;66;03m# we're accessing the attribute of the class, i.e., Dataset.geo\u001b[39;00m\n\u001b[0;32m    223\u001b[0m     \u001b[38;5;28;01mreturn\u001b[39;00m \u001b[38;5;28mself\u001b[39m\u001b[38;5;241m.\u001b[39m_accessor\n\u001b[1;32m--> 224\u001b[0m accessor_obj \u001b[38;5;241m=\u001b[39m \u001b[38;5;28;43mself\u001b[39;49m\u001b[38;5;241;43m.\u001b[39;49m\u001b[43m_accessor\u001b[49m\u001b[43m(\u001b[49m\u001b[43mobj\u001b[49m\u001b[43m)\u001b[49m\n\u001b[0;32m    225\u001b[0m \u001b[38;5;66;03m# Replace the property with the accessor object. Inspired by:\u001b[39;00m\n\u001b[0;32m    226\u001b[0m \u001b[38;5;66;03m# https://www.pydanny.com/cached-property.html\u001b[39;00m\n\u001b[0;32m    227\u001b[0m \u001b[38;5;66;03m# We need to use object.__setattr__ because we overwrite __setattr__ on\u001b[39;00m\n\u001b[0;32m    228\u001b[0m \u001b[38;5;66;03m# NDFrame\u001b[39;00m\n\u001b[0;32m    229\u001b[0m \u001b[38;5;28mobject\u001b[39m\u001b[38;5;241m.\u001b[39m\u001b[38;5;21m__setattr__\u001b[39m(obj, \u001b[38;5;28mself\u001b[39m\u001b[38;5;241m.\u001b[39m_name, accessor_obj)\n",
      "File \u001b[1;32mC:\\Anaconda3\\Lib\\site-packages\\pandas\\core\\arrays\\categorical.py:2898\u001b[0m, in \u001b[0;36mCategoricalAccessor.__init__\u001b[1;34m(self, data)\u001b[0m\n\u001b[0;32m   2897\u001b[0m \u001b[38;5;28;01mdef\u001b[39;00m \u001b[38;5;21m__init__\u001b[39m(\u001b[38;5;28mself\u001b[39m, data) \u001b[38;5;241m-\u001b[39m\u001b[38;5;241m>\u001b[39m \u001b[38;5;28;01mNone\u001b[39;00m:\n\u001b[1;32m-> 2898\u001b[0m     \u001b[38;5;28;43mself\u001b[39;49m\u001b[38;5;241;43m.\u001b[39;49m\u001b[43m_validate\u001b[49m\u001b[43m(\u001b[49m\u001b[43mdata\u001b[49m\u001b[43m)\u001b[49m\n\u001b[0;32m   2899\u001b[0m     \u001b[38;5;28mself\u001b[39m\u001b[38;5;241m.\u001b[39m_parent \u001b[38;5;241m=\u001b[39m data\u001b[38;5;241m.\u001b[39mvalues\n\u001b[0;32m   2900\u001b[0m     \u001b[38;5;28mself\u001b[39m\u001b[38;5;241m.\u001b[39m_index \u001b[38;5;241m=\u001b[39m data\u001b[38;5;241m.\u001b[39mindex\n",
      "File \u001b[1;32mC:\\Anaconda3\\Lib\\site-packages\\pandas\\core\\arrays\\categorical.py:2907\u001b[0m, in \u001b[0;36mCategoricalAccessor._validate\u001b[1;34m(data)\u001b[0m\n\u001b[0;32m   2904\u001b[0m \u001b[38;5;129m@staticmethod\u001b[39m\n\u001b[0;32m   2905\u001b[0m \u001b[38;5;28;01mdef\u001b[39;00m \u001b[38;5;21m_validate\u001b[39m(data):\n\u001b[0;32m   2906\u001b[0m     \u001b[38;5;28;01mif\u001b[39;00m \u001b[38;5;129;01mnot\u001b[39;00m \u001b[38;5;28misinstance\u001b[39m(data\u001b[38;5;241m.\u001b[39mdtype, CategoricalDtype):\n\u001b[1;32m-> 2907\u001b[0m         \u001b[38;5;28;01mraise\u001b[39;00m \u001b[38;5;167;01mAttributeError\u001b[39;00m(\u001b[38;5;124m\"\u001b[39m\u001b[38;5;124mCan only use .cat accessor with a \u001b[39m\u001b[38;5;124m'\u001b[39m\u001b[38;5;124mcategory\u001b[39m\u001b[38;5;124m'\u001b[39m\u001b[38;5;124m dtype\u001b[39m\u001b[38;5;124m\"\u001b[39m)\n",
      "\u001b[1;31mAttributeError\u001b[0m: Can only use .cat accessor with a 'category' dtype"
     ]
    }
   ],
   "source": [
    "print(loan_data['purpose_'].cat.categories)\n",
    "print(loan_data['home_'].cat.categories)\n",
    "print(loan_data['emp_len_'].cat.categories)"
   ]
  },
  {
   "cell_type": "code",
   "execution_count": null,
   "id": "5587ce0d-e5da-413f-978e-63cf6a6b5b57",
   "metadata": {},
   "outputs": [],
   "source": [
    "from sklearn.preprocessing import OrdinalEncoder\n",
    "enc = OrdinalEncoder(categories=[['paid off', 'default']])\n",
    "y_enc = enc.fit_transform(loan_data[[outcome]]).ravel()\n",
    "\n",
    "logit_reg_enc = LogisticRegression(penalty=\"l2\", C=1e42, solver='liblinear')\n",
    "logit_reg_enc.fit(X, y_enc)\n",
    "\n",
    "print('intercept', logit_reg_enc.intercept_[0])\n",
    "print('classes', logit_reg_enc.classes_)\n",
    "pd.DataFrame({'coeff': logit_reg_enc.coef_[0]},\n",
    "            index=X.columns)"
   ]
  },
  {
   "cell_type": "markdown",
   "id": "382067e2-e68f-4c28-8d54-2234aa9312b8",
   "metadata": {},
   "source": [
    "# Predicted Values from Logistic Regression\n",
    "\n",
    "In _Python_, we can convert the probabilities into a data frame and use the `describe` method to get these characteristics of the distribution:"
   ]
  },
  {
   "cell_type": "code",
   "execution_count": null,
   "id": "8dfb2dd1-db96-44b7-ba6a-8bf182f4896d",
   "metadata": {},
   "outputs": [],
   "source": [
    "pred = pd.DataFrame(logit_reg.predict_log_proba(X),\n",
    "                   columns=loan_data[outcome].cat.categories)\n",
    "pred.describe()"
   ]
  },
  {
   "cell_type": "markdown",
   "id": "12f2618c-0a80-4307-afa5-f11c3f3b63fe",
   "metadata": {},
   "source": [
    "The probabilities are directly available using the `predict_proba` in `scikit-learn`:"
   ]
  },
  {
   "cell_type": "code",
   "execution_count": null,
   "id": "112dd4d9-bb2a-4561-9748-4906cc521053",
   "metadata": {},
   "outputs": [],
   "source": [
    "pred = pd.DataFrame(logit_reg.predict_proba(X),\n",
    "                   columns=loan_data[outcome].cat.categories)\n",
    "pred.describe()"
   ]
  },
  {
   "cell_type": "markdown",
   "id": "a7dd66ba-8f9d-44b2-a2fb-2b5624aee6aa",
   "metadata": {},
   "source": [
    "# Interpreting the Coefficients and Odds Ratios"
   ]
  },
  {
   "cell_type": "code",
   "execution_count": null,
   "id": "4a4d678a-08c9-45cf-926e-aab7042ba3fb",
   "metadata": {},
   "outputs": [],
   "source": [
    "fig, ax = plt.subplots(figsize=(3,3))\n",
    "ax.plot(df['logit'],df['odds'])\n",
    "ax.set_xlabel('log(odds ratio)')\n",
    "ax.set_ylabel('odds ratio')\n",
    "ax.set_xlim(0,5.1)\n",
    "ax.set_ylim(-5,105)\n",
    "\n",
    "plt.tight_layout()\n",
    "plt.show()"
   ]
  },
  {
   "cell_type": "markdown",
   "id": "366548b2-8d67-4dd7-b1ed-81101d271d13",
   "metadata": {},
   "source": [
    "# Assessing the Model\n",
    "\n",
    "The package `statsmodels` has an implementation for generalized linear model (GLM) that provides similarly detailed information:"
   ]
  },
  {
   "cell_type": "code",
   "execution_count": null,
   "id": "0cb9753e-0254-4dc4-9559-f0a1da7ca170",
   "metadata": {},
   "outputs": [],
   "source": [
    "y_numbers = [1 if yi == 'default' else 0 for yi in y]\n",
    "logit_reg_sm = sm.GLM(y_numbers, X.assign(const=1), \n",
    "                      family=sm.families.Binomial())\n",
    "logit_result = logit_reg_sm.fit()\n",
    "print(logit_result.summary())"
   ]
  },
  {
   "cell_type": "markdown",
   "id": "996c6dce-4f5c-4870-a919-82903e48e6c8",
   "metadata": {},
   "source": [
    "The formula interface of `statsmodels` also supports these extensions in _Python_:"
   ]
  },
  {
   "cell_type": "code",
   "execution_count": null,
   "id": "6cdc79d1-c6e9-4bd5-b93b-4f43b40539c5",
   "metadata": {},
   "outputs": [],
   "source": [
    "import statsmodels.formula.api as smf\n",
    "formula = ('outcome ~ bs(payment_inc_ratio, df=4) + purpose_ + ' + \n",
    "           'home_ + emp_len_ + bs(borrower_score, df=4)')\n",
    "model = smf.glm(formula=formula, data=loan_data, family=sm.families.Binomial())\n",
    "results = model.fit()\n",
    "print(results.summary())"
   ]
  },
  {
   "cell_type": "markdown",
   "id": "72d18b36-88ea-4133-a68c-cee37b55d8b4",
   "metadata": {},
   "source": [
    "## Analysis of residuals"
   ]
  },
  {
   "cell_type": "code",
   "execution_count": null,
   "id": "999628b1-3bb9-4bb5-a66a-f582a9027e8f",
   "metadata": {},
   "outputs": [],
   "source": [
    "from statsmodels.genmod.generalized_linear_model import GLMResults\n",
    "\n",
    "def partialResidualPlot(model, df, outcome, feature, fig, ax):\n",
    "    y_actual = [0 if s == 'default' else 1 for s in df[outcome]]\n",
    "    y_pred = model.predict(df)\n",
    "    org_params = model.params.copy()\n",
    "    zero_params = model.params.copy()\n",
    "    # set model parameters of other features to 0\n",
    "    for i, name in enumerate(zero_params.index):\n",
    "        if feature in name:\n",
    "            continue\n",
    "        zero_params[i]=0.0\n",
    "    model.initialize(model.model, zero_params)\n",
    "    feature_prediction = model.predict(df)\n",
    "    ypartial = -np.log(1/feature_prediction - 1)\n",
    "    ypartial = ypartial - np.mean(ypartial)\n",
    "    model.initialize(model.model, org_params)\n",
    "    results = pd.DataFrame({\n",
    "        'feature': df[feature],\n",
    "        'residual': -2 * (y_actual - y_pred),\n",
    "        'ypartial': ypartial/2\n",
    "    })\n",
    "    results = results.sort_values(by=['feature'])\n",
    "    \n",
    "    ax.scatter(results.feature, results.residual, marker='.', s=72/fig.dpi)\n",
    "    ax.plot(results.feature, results.ypartial, color='black')\n",
    "    ax.set_xlabel(feature)\n",
    "    ax.set_ylabel(f'Residual - {feature} contribution')\n",
    "    return ax\n",
    "\n",
    "fig, ax = plt.subplots(figsize=(5,5))\n",
    "partialResidualPlot(results, loan_data, 'outcome', 'payment_inc_ratio', fig, ax)\n",
    "ax.set_xlim(0, 25)\n",
    "ax.set_ylim(-2.5, 2.5)\n",
    "\n",
    "plt.tight_layout()\n",
    "plt.show()"
   ]
  },
  {
   "cell_type": "markdown",
   "id": "de5884dc-db74-4c24-8432-b0f7f22d5c10",
   "metadata": {},
   "source": [
    "# Confusion Matrix"
   ]
  },
  {
   "cell_type": "code",
   "execution_count": null,
   "id": "a1713da8-eb93-41a9-b522-661d19002a29",
   "metadata": {},
   "outputs": [],
   "source": [
    "pred = logit_reg.predict(X)\n",
    "pred_y = logit_reg.predict(X) == 'default'\n",
    "true_y = y == 'default'\n",
    "true_pos = true_y & pred_y\n",
    "true_neg = ~true_y & ~pred_y\n",
    "false_pos = ~true_y & ~pred_y\n",
    "false_neg = true_y & ~pred_y\n",
    "\n",
    "conf_mat = pd.DataFrame([[np.sum(true_pos), np.sum(false_neg)],\n",
    "                        [np.sum(false_pos), np.sum(true_neg)]],\n",
    "                       index=['Y = default', 'Y = paid off'],\n",
    "                       columns=['Yhat = default', 'Yhat = paid off'])\n",
    "print(conf_mat)"
   ]
  },
  {
   "cell_type": "markdown",
   "id": "efcf7339-4ab2-4047-b453-500b2d5ae4ee",
   "metadata": {},
   "source": [
    "# Precision, Recall, and Specificity\n",
    "\n",
    "To calculate the 3 metrics in _Python_:\n",
    "\n",
    "`scikit-learn` has a custom method `precision_recall_fscore_support` that calculates precision and recall/specificity all at once."
   ]
  },
  {
   "cell_type": "code",
   "execution_count": null,
   "id": "8e3d8076-2955-4a51-99a9-9b5a6b5e48d7",
   "metadata": {},
   "outputs": [],
   "source": [
    "conf_mat = confusion_matrix(y, logit_reg.predict(X))\n",
    "print('Precision', conf_mat[0,0]/sum(conf_mat[:,0]))\n",
    "print('Recall', conf_mat[0,0]/sum(conf_mat[0, :]))\n",
    "print('Specificity', conf_mat[1,1]/sum(conf_mat[1, :]))\n",
    "\n",
    "precision_recall_fscore_support(y, logit_reg.predict(X),\n",
    "                               labels=['default', 'paid off'])"
   ]
  },
  {
   "cell_type": "markdown",
   "id": "f9b1ac1a-5082-4a3a-bd99-430e2ef948a4",
   "metadata": {},
   "source": [
    "# ROC Curve\n",
    "\n",
    "This metric captures the trade-off between recall and specificity. In _Python_, we can use the `scikit-learn` function `sklearn.metrics.roc_curve` to calculate the required information for the ROC curve."
   ]
  },
  {
   "cell_type": "code",
   "execution_count": null,
   "id": "7819325c-a167-4a1d-9b94-0579101a4109",
   "metadata": {},
   "outputs": [],
   "source": [
    "fpr, tpr, thresholds = roc_curve(y, logit_reg.predict_proba(X)[:,0],\n",
    "                                pos_label='default')\n",
    "roc_df = pd.DataFrame({'recall': tpr,'specificity':1 - fpr})\n",
    "\n",
    "ax = roc_df.plot(x='specificity',y='recall',figsize=(4,4),legend=False)\n",
    "ax.set_ylim(0,1)\n",
    "ax.set_xlim(1,0)\n",
    "ax.plot((1,0),(0,1))\n",
    "ax.set_xlabel('specificity')\n",
    "ax.set_ylabel('recall')\n",
    "\n",
    "plt.tight_layout()\n",
    "plt.show()"
   ]
  },
  {
   "cell_type": "markdown",
   "id": "1e2a7388-6ff3-4857-9a2f-c3c69fd25971",
   "metadata": {},
   "source": [
    "# AUC\n",
    "\n",
    "It is simply the total area under the ROC curve. The larger the value of AUC, the more effective the classifier.\n",
    "\n",
    "In _Python_, we can either calculate the accuracy as shown for _R_ or use `scikit-learn` function `sklearn.metrics.roc_auc_score`. You will need to provide the expected value as 0 or 1:"
   ]
  },
  {
   "cell_type": "code",
   "execution_count": null,
   "id": "35392a43-a5ad-447d-918b-e8d9c8e085d1",
   "metadata": {},
   "outputs": [],
   "source": [
    "print(np.sum(roc_df.recall[:-1] * np.diff(1 - roc_df.specificity)))\n",
    "print(roc_auc_score([1 if yi == 'default' else 0 for yi in y],\n",
    "                   logit_reg.predict_proba(X)[:,0]))"
   ]
  },
  {
   "cell_type": "code",
   "execution_count": null,
   "id": "810956d6-d318-4a4b-9b7b-4022dad9a2f0",
   "metadata": {},
   "outputs": [],
   "source": [
    "fpr, tpr, thresholds = roc_curve(y, logit_reg.predict_proba(X)[:,0],\n",
    "                                pos_label='default')\n",
    "roc_df = pd.DataFrame({'recall': tpr, 'specificity': 1 - fpr})\n",
    "\n",
    "ax = roc_df.plot(x='specificity', y='recall', figsize=(4,4),legend=False)\n",
    "ax.set_ylim(0,1)\n",
    "ax.set_xlim(1,0)\n",
    "\n",
    "ax.set_xlabel('specificity')\n",
    "ax.set_ylabel('recall')\n",
    "ax.fill_between(roc_df.specificity, 0, roc_df.recall, alpha=0.3)\n",
    "\n",
    "plt.tight_layout()\n",
    "plt.show()"
   ]
  },
  {
   "cell_type": "markdown",
   "id": "eba81c92-06ed-4636-b9c0-051386f24db0",
   "metadata": {},
   "source": [
    "# Strategies for Imbalanced Data\n",
    "\n",
    "# Undersample"
   ]
  },
  {
   "cell_type": "code",
   "execution_count": null,
   "id": "e5c88978-c8e7-42cd-8bb4-4a30a9f2f87b",
   "metadata": {},
   "outputs": [],
   "source": [
    "full_train_set = pd.read_csv(FULL_TRAIN_SET_CSV)\n",
    "print(full_train_set.shape)"
   ]
  },
  {
   "cell_type": "code",
   "execution_count": 99,
   "id": "f361f41a-4316-4f70-bdf2-74fd715146c3",
   "metadata": {},
   "outputs": [
    {
     "name": "stdout",
     "output_type": "stream",
     "text": [
      "18.894546909248504\n",
      "percentage of loans in default:  None\n"
     ]
    }
   ],
   "source": [
    "print('percentage of loans in default: ', \n",
    "print(      100 * np.mean(full_train_set.outcome == 'default')))"
   ]
  },
  {
   "cell_type": "code",
   "execution_count": null,
   "id": "c51b088c-a427-4025-9bed-862cdae69b64",
   "metadata": {},
   "outputs": [],
   "source": []
  },
  {
   "cell_type": "code",
   "execution_count": 103,
   "id": "5c383dc0-400b-4002-b91b-588c864a6069",
   "metadata": {},
   "outputs": [
    {
     "name": "stdout",
     "output_type": "stream",
     "text": [
      "0.0\n",
      "percentage of loans predicted to default:  None\n"
     ]
    }
   ],
   "source": [
    "# What happens if we use the full data set to train the model?\n",
    "predictors = ['payment_inc_ratio', 'purpose_', 'home_', 'emp_len_', \n",
    "              'dti', 'revol_bal', 'revol_util']\n",
    "outcome = 'outcome'\n",
    "X = pd.get_dummies(full_train_set[predictors], prefix='', prefix_sep='', \n",
    "                   drop_first=True, dtype=int)\n",
    "y = full_train_set[outcome]\n",
    "\n",
    "full_model = LogisticRegression(penalty='l2', C=1e42, solver='liblinear')\n",
    "full_model.fit(X, y)\n",
    "print('percentage of loans predicted to default: ', \n",
    "print(      100 * np.mean(full_model.predict(X) == 'default')))"
   ]
  },
  {
   "cell_type": "markdown",
   "id": "a9d3c5f0-3569-4ed5-8853-857bab1d35e2",
   "metadata": {},
   "source": [
    "# Oversampling and Up/Down Weighting\n",
    "\n",
    "Most `scikit-learn` methods allows specifying weights in the `fit` function using the keyword argument `sample_weight`:"
   ]
  },
  {
   "cell_type": "code",
   "execution_count": 107,
   "id": "afc9dba4-d244-447c-a0a1-401492c4b496",
   "metadata": {},
   "outputs": [
    {
     "name": "stdout",
     "output_type": "stream",
     "text": [
      "percentage of loans predicted to default (weighting):  61.43998933217766\n"
     ]
    }
   ],
   "source": [
    "default_wt = 1 / np.mean(full_train_set.outcome == 'default')\n",
    "wt = [default_wt if outcome == 'default' else 1 \n",
    "      for outcome in full_train_set.outcome]\n",
    "\n",
    "full_model = LogisticRegression(penalty='l2', C=1e42, solver='liblinear')\n",
    "full_model.fit(X, y, sample_weight=wt)\n",
    "print('percentage of loans predicted to default (weighting): ', \n",
    "      100 * np.mean(full_model.predict(X) == 'default'))"
   ]
  },
  {
   "cell_type": "markdown",
   "id": "b5ef2378-6a67-49f1-939e-60500d711179",
   "metadata": {},
   "source": [
    "# Data Generation\n",
    "\n",
    "The _Python_ package `imbalanced-learn` implements a variety of methods with an API that is compatible with `scikit-learn`. It provides various methods for over- and undersampling and support for using these techniques with boosting and bagging classifiers."
   ]
  },
  {
   "cell_type": "code",
   "execution_count": 109,
   "id": "b46c45e5-3b9d-40f7-b8e7-4b627836fde8",
   "metadata": {},
   "outputs": [
    {
     "name": "stdout",
     "output_type": "stream",
     "text": [
      "percentage of loans predicted to default (SMOTE resampled):  50.0\n",
      "percentage of loans predicted to default (SMOTE):  29.29317342712127\n",
      "percentage of loans predicted to default (ADASYN resampled):  48.56040383751355\n",
      "percentage of loans predicted to default (ADASYN):  27.281288806287346\n"
     ]
    }
   ],
   "source": [
    "X_resampled, y_resampled = SMOTE().fit_resample(X, y)\n",
    "print('percentage of loans predicted to default (SMOTE resampled): ',\n",
    "     100 * np.mean(y_resampled == 'default'))\n",
    "\n",
    "full_model = LogisticRegression(penalty='l2', C=1e42, solver='liblinear')\n",
    "full_model.fit(X_resampled, y_resampled)\n",
    "print('percentage of loans predicted to default (SMOTE): ',\n",
    "     100 * np.mean(full_model.predict(X) == 'default'))\n",
    "\n",
    "X_resampled, y_resampled = ADASYN().fit_resample(X, y)\n",
    "print('percentage of loans predicted to default (ADASYN resampled): ',\n",
    "     100 * np.mean(y_resampled == 'default'))\n",
    "\n",
    "full_model = LogisticRegression(penalty='l2', C=1e42, solver='liblinear')\n",
    "full_model.fit(X_resampled, y_resampled)\n",
    "print('percentage of loans predicted to default (ADASYN): ',\n",
    "     100 * np.mean(full_model.predict(X) == 'default'))"
   ]
  },
  {
   "cell_type": "markdown",
   "id": "e2d7559a-ba6b-43bd-93bc-8785a01bbd55",
   "metadata": {},
   "source": [
    "# Exploring the predictions"
   ]
  },
  {
   "cell_type": "code",
   "execution_count": 116,
   "id": "1937ac3c-5085-441c-a0ca-8a6b7a96fdb5",
   "metadata": {},
   "outputs": [
    {
     "name": "stderr",
     "output_type": "stream",
     "text": [
      "\u001b[38;2;0;255;0m100%\u001b[39m \u001b[38;2;0;255;0m(11 of 11)\u001b[39m |########################| Elapsed Time: 0:00:00 Time:  0:00:000:00\n"
     ]
    },
    {
     "name": "stdout",
     "output_type": "stream",
     "text": [
      "LinearGAM(callbacks=[Deviance(), Diffs()], fit_intercept=True, \n",
      "   max_iter=100, scale=None, terms=s(0) + s(1) + intercept, \n",
      "   tol=0.0001, verbose=False)\n"
     ]
    }
   ],
   "source": [
    "loan3000 = pd.read_csv(LOAN3000_CSV)\n",
    "\n",
    "predictors = ['borrower_score', 'payment_inc_ratio']\n",
    "outcome = 'outcome'\n",
    "\n",
    "X = loan3000[predictors]\n",
    "y = loan3000[outcome]\n",
    "\n",
    "loan_tree = DecisionTreeClassifier(random_state=1, criterion='entropy',\n",
    "                                  min_impurity_decrease=0.003)\n",
    "loan_tree.fit(X, y)\n",
    "\n",
    "loan_lda = LinearDiscriminantAnalysis()\n",
    "loan_lda.fit(X, y)\n",
    "\n",
    "logit_reg = LogisticRegression(penalty=\"l2\", solver='liblinear')\n",
    "logit_reg.fit(X, y)\n",
    "\n",
    "# model\n",
    "gam = LinearGAM(s(0) + s(1))\n",
    "print(gam.gridsearch(X.values, [1 if yi == 'default' else 0 for yi in y]))"
   ]
  },
  {
   "cell_type": "code",
   "execution_count": 135,
   "id": "3da8fffa-055a-4333-9c4d-3d45a6cedc3b",
   "metadata": {},
   "outputs": [
    {
     "data": {
      "image/png": "[encoded data removed]",
      "text/plain": [
       "<Figure size 500x500 with 4 Axes>"
      ]
     },
     "metadata": {},
     "output_type": "display_data"
    }
   ],
   "source": [
    "models = {\n",
    "    'Decision Tree': loan_tree,\n",
    "    'Linear Discriminant Analysis': loan_lda,\n",
    "    'Logistic Regression': logit_reg,\n",
    "    'Generalized Additive Model': gam,\n",
    "}\n",
    "\n",
    "fig, axes = plt.subplots(nrows=2, ncols =2, figsize=(5,5))\n",
    "\n",
    "xvalues = np.arange(0.25, 0.73, 0.005)\n",
    "yvalues = np.arange(-0.1, 20.1, 0.1)\n",
    "xx, yy = np.meshgrid(xvalues, yvalues)\n",
    "X = pd.DataFrame({\n",
    "    'borrower_score': xx.ravel(),\n",
    "    'payment_inc_ratio': yy.ravel(),\n",
    "})\n",
    "\n",
    "boundary = {}\n",
    "\n",
    "# for loop\n",
    "for n, (title, model) in enumerate(models.items()):\n",
    "    ax = axes[n // 2, n % 2]\n",
    "    predict = model.predict(X)\n",
    "    if 'Generalized' in title:\n",
    "        Z = np.array([1 if z > 0.5 else 0 for z in predict])\n",
    "    else:\n",
    "        Z = np.array([1 if z == 'default' else 0 for z in predict])\n",
    "    Z = Z.reshape(xx.shape)\n",
    "    boundary[title] = yvalues[np.argmax(Z > 0, axis=0)]\n",
    "    boundary[title][Z[-1,:] ==0] = yvalues[-1]\n",
    "    \n",
    "    c = ax.pcolormesh(xx, yy, Z, cmap='Blues', vmin=0.1, vmax=1.3,\n",
    "                     shading='auto')\n",
    "    ax.set_title(title)\n",
    "    ax.grid(True)\n",
    "\n",
    "plt.tight_layout()\n",
    "plt.show()"
   ]
  },
  {
   "cell_type": "code",
   "execution_count": 139,
   "id": "1ef57b3c-94a6-4300-a611-bd21f1b07cd4",
   "metadata": {},
   "outputs": [
    {
     "data": {
      "image/png": "[encoded data removed]",
      "text/plain": [
       "<Figure size 500x400 with 1 Axes>"
      ]
     },
     "metadata": {},
     "output_type": "display_data"
    }
   ],
   "source": [
    "boundary['borrower_score'] = xvalues\n",
    "boundaries = pd.DataFrame(boundary)\n",
    "\n",
    "fig, ax = plt.subplots(figsize=(5,4))\n",
    "boundaries.plot(x='borrower_score', ax=ax)\n",
    "ax.set_ylabel('payment_inc_ratio')\n",
    "ax.set_ylim(0, 20)\n",
    "\n",
    "plt.tight_layout()\n",
    "plt.show()"
   ]
  },
  {
   "cell_type": "code",
   "execution_count": null,
   "id": "87aa7bd2-8d43-424e-aa4d-ed96677a490e",
   "metadata": {},
   "outputs": [],
   "source": []
  },
  {
   "cell_type": "code",
   "execution_count": null,
   "id": "b65a5361-55c5-4483-a480-ce4bcfe9f98c",
   "metadata": {},
   "outputs": [],
   "source": []
  },
  {
   "cell_type": "code",
   "execution_count": null,
   "id": "6f3b0f43-278e-46c0-a3b7-bd816a951469",
   "metadata": {},
   "outputs": [],
   "source": []
  },
  {
   "cell_type": "code",
   "execution_count": null,
   "id": "655d1688-ca16-4f39-93be-253be4f25dea",
   "metadata": {},
   "outputs": [],
   "source": []
  },
  {
   "cell_type": "code",
   "execution_count": null,
   "id": "2811ba27-d242-4659-a839-b19623ef9b66",
   "metadata": {},
   "outputs": [],
   "source": []
  },
  {
   "cell_type": "code",
   "execution_count": null,
   "id": "43f2e7fb-7258-41d4-86a1-017364ed3cdd",
   "metadata": {},
   "outputs": [],
   "source": []
  },
  {
   "cell_type": "code",
   "execution_count": null,
   "id": "e1a1790a-9925-45a7-8400-fe396001685d",
   "metadata": {},
   "outputs": [],
   "source": []
  },
  {
   "cell_type": "code",
   "execution_count": null,
   "id": "cf338488-fda8-452c-b557-db2169a19767",
   "metadata": {},
   "outputs": [],
   "source": []
  },
  {
   "cell_type": "code",
   "execution_count": null,
   "id": "891bd7fe-fb13-4019-86f2-9967aed78742",
   "metadata": {},
   "outputs": [],
   "source": []
  },
  {
   "cell_type": "code",
   "execution_count": null,
   "id": "f9e5a3b4-6f72-4b0b-994e-d65310ddb969",
   "metadata": {},
   "outputs": [],
   "source": []
  },
  {
   "cell_type": "code",
   "execution_count": null,
   "id": "63fd7273-e941-4136-be77-e9b5475aa2a1",
   "metadata": {},
   "outputs": [],
   "source": []
  },
  {
   "cell_type": "code",
   "execution_count": null,
   "id": "0b9ba011-855b-4ab5-aaf0-927f0fea81da",
   "metadata": {},
   "outputs": [],
   "source": []
  },
  {
   "cell_type": "code",
   "execution_count": null,
   "id": "b73b71dd-3605-44ba-bdfb-76e3afc28640",
   "metadata": {},
   "outputs": [],
   "source": []
  },
  {
   "cell_type": "markdown",
   "id": "27edd092-eac4-4119-8429-3f3c299bde91",
   "metadata": {},
   "source": []
  },
  {
   "cell_type": "code",
   "execution_count": null,
   "id": "71794fd9-9fc1-4998-85cc-41062ba72d27",
   "metadata": {},
   "outputs": [],
   "source": []
  },
  {
   "cell_type": "code",
   "execution_count": null,
   "id": "30e76a87-0c54-4379-b75a-50932ae3d8a5",
   "metadata": {},
   "outputs": [],
   "source": []
  },
  {
   "cell_type": "code",
   "execution_count": null,
   "id": "2b7eec6e-43b9-4484-bc59-1b25ff8bd7c3",
   "metadata": {},
   "outputs": [],
   "source": []
  },
  {
   "cell_type": "code",
   "execution_count": null,
   "id": "e9631ab9-b3d1-4b96-afbb-e01604d7344c",
   "metadata": {},
   "outputs": [],
   "source": []
  },
  {
   "cell_type": "code",
   "execution_count": null,
   "id": "1977ce14-b382-43d3-93a7-004ba24662c2",
   "metadata": {},
   "outputs": [],
   "source": []
  },
  {
   "cell_type": "code",
   "execution_count": null,
   "id": "e1d7b648-8015-4255-be5c-6de6b983dde7",
   "metadata": {},
   "outputs": [],
   "source": []
  },
  {
   "cell_type": "code",
   "execution_count": null,
   "id": "e7d0d4a8-96e2-4b48-ab6b-4e7f68350e38",
   "metadata": {},
   "outputs": [],
   "source": []
  },
  {
   "cell_type": "code",
   "execution_count": null,
   "id": "096a9667-96d2-487d-9635-32b738f43582",
   "metadata": {},
   "outputs": [],
   "source": []
  },
  {
   "cell_type": "code",
   "execution_count": null,
   "id": "95b6680e-9f02-4c99-956c-40aa7d9ffee8",
   "metadata": {},
   "outputs": [],
   "source": []
  },
  {
   "cell_type": "code",
   "execution_count": null,
   "id": "3bb335fd-9d64-4e87-8325-0c8ba1b8b9d2",
   "metadata": {},
   "outputs": [],
   "source": []
  },
  {
   "cell_type": "code",
   "execution_count": null,
   "id": "5585b3fb-0d07-44d3-9d5e-0566a9a69670",
   "metadata": {},
   "outputs": [],
   "source": []
  },
  {
   "cell_type": "code",
   "execution_count": null,
   "id": "67b6c793-7fa5-45a5-91ed-a8b5969fe8cf",
   "metadata": {},
   "outputs": [],
   "source": []
  },
  {
   "cell_type": "code",
   "execution_count": null,
   "id": "d4afb5b2-eafd-4f0f-a0e1-354e6224f350",
   "metadata": {},
   "outputs": [],
   "source": []
  },
  {
   "cell_type": "code",
   "execution_count": null,
   "id": "977011dd-829e-4a32-abe8-d1365a19f064",
   "metadata": {},
   "outputs": [],
   "source": []
  },
  {
   "cell_type": "code",
   "execution_count": null,
   "id": "d220e745-c0bd-4bff-a5ac-039d1df71853",
   "metadata": {},
   "outputs": [],
   "source": []
  },
  {
   "cell_type": "code",
   "execution_count": null,
   "id": "93f972eb-b6a1-4d2c-82d9-dc77d0286de6",
   "metadata": {},
   "outputs": [],
   "source": []
  },
  {
   "cell_type": "code",
   "execution_count": null,
   "id": "72626988-7de8-4b6d-927d-376cf86c6e02",
   "metadata": {},
   "outputs": [],
   "source": []
  },
  {
   "cell_type": "code",
   "execution_count": null,
   "id": "d959a310-1e9f-44d3-80cb-b16b33ca5e31",
   "metadata": {},
   "outputs": [],
   "source": []
  },
  {
   "cell_type": "code",
   "execution_count": null,
   "id": "034c2f25-1956-4399-9ff8-7873a4c36e4c",
   "metadata": {},
   "outputs": [],
   "source": []
  },
  {
   "cell_type": "code",
   "execution_count": null,
   "id": "9cb2b12e-aaf9-40ed-80ee-0246a7e60a71",
   "metadata": {},
   "outputs": [],
   "source": []
  },
  {
   "cell_type": "code",
   "execution_count": null,
   "id": "4dca63bd-65cf-4e9c-9ec6-3a436bd34930",
   "metadata": {},
   "outputs": [],
   "source": []
  },
  {
   "cell_type": "code",
   "execution_count": null,
   "id": "f1ce9adf-66b9-4980-aee7-e93d91f89aed",
   "metadata": {},
   "outputs": [],
   "source": []
  },
  {
   "cell_type": "code",
   "execution_count": null,
   "id": "3dd1d7be-a600-48e1-9b1b-946e48a67840",
   "metadata": {},
   "outputs": [],
   "source": []
  },
  {
   "cell_type": "code",
   "execution_count": null,
   "id": "914e3d57-4b73-40cf-9348-cd6bdedf6608",
   "metadata": {},
   "outputs": [],
   "source": []
  }
 ],
 "metadata": {
  "kernelspec": {
   "display_name": "Python 3 (ipykernel)",
   "language": "python",
   "name": "python3"
  },
  "language_info": {
   "codemirror_mode": {
    "name": "ipython",
    "version": 3
   },
   "file_extension": ".py",
   "mimetype": "text/x-python",
   "name": "python",
   "nbconvert_exporter": "python",
   "pygments_lexer": "ipython3",
   "version": "3.12.7"
  }
 },
 "nbformat": 4,
 "nbformat_minor": 5
}
