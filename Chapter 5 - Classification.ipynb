{
 "cells": [
  {
   "cell_type": "markdown",
   "id": "d8ccf2fc-da69-4570-8561-3cd427b872db",
   "metadata": {},
   "source": [
    "# Chapter 5 - Classification\n",
    "\n",
    "Import required Python packages."
   ]
  },
  {
   "cell_type": "code",
   "execution_count": 8,
   "id": "87c9c447-0501-4acd-b69f-3e00065c882a",
   "metadata": {},
   "outputs": [],
   "source": [
    "from pathlib import Path\n",
    "import pandas as pd\n",
    "import numpy as np\n",
    "\n",
    "from sklearn.naive_bayes import MultinomialNB\n",
    "from sklearn.discriminant_analysis import LinearDiscriminantAnalysis\n",
    "from sklearn.linear_model import LogisticRegression #, LogisticRegressionCV\n",
    "from sklearn.tree import DecisionTreeClassifier\n",
    "from sklearn.metrics import confusion_matrix, precision_recall_fscore_support\n",
    "from sklearn.metrics import roc_curve, accuracy_score, roc_auc_score\n",
    "\n",
    "import statsmodels.api as sm\n",
    "\n",
    "from imblearn.over_sampling import SMOTE, ADASYN, BorderlineSMOTE\n",
    "from pygam import LinearGAM, s, f, l\n",
    "\n",
    "\n",
    "from dmba import classificationSummary\n",
    "\n",
    "import seaborn as sns\n",
    "import matplotlib.pyplot as plt\n",
    "\n",
    "%matplotlib inline"
   ]
  },
  {
   "cell_type": "code",
   "execution_count": 2,
   "id": "af5d4b58-d242-449d-887f-77cbdfc2ff24",
   "metadata": {},
   "outputs": [],
   "source": [
    "LOAN3000_CSV = r\"\\Personal\\Full_Stack_Data_Analyst\\Data_Science\\O-Reilly_Books\\Practical Statistics for Data Scientists\\loan3000.csv\"\n"
   ]
  },
  {
   "cell_type": "markdown",
   "id": "8fc06779-9c38-40f1-910c-7e53d87794c9",
   "metadata": {},
   "source": [
    "# The Naive Solution"
   ]
  },
  {
   "cell_type": "code",
   "execution_count": null,
   "id": "d1a8b4dc-3fae-416b-816b-684b1041a479",
   "metadata": {},
   "outputs": [],
   "source": []
  }
 ],
 "metadata": {
  "kernelspec": {
   "display_name": "Python 3 (ipykernel)",
   "language": "python",
   "name": "python3"
  },
  "language_info": {
   "codemirror_mode": {
    "name": "ipython",
    "version": 3
   },
   "file_extension": ".py",
   "mimetype": "text/x-python",
   "name": "python",
   "nbconvert_exporter": "python",
   "pygments_lexer": "ipython3",
   "version": "3.12.7"
  }
 },
 "nbformat": 4,
 "nbformat_minor": 5
}
